{
 "cells": [
  {
   "cell_type": "code",
   "execution_count": 1,
   "metadata": {
    "collapsed": true
   },
   "outputs": [],
   "source": [
    "import pandas as pd\n",
    "import numpy as np\n",
    "import matplotlib.pyplot as plt"
   ]
  },
  {
   "cell_type": "code",
   "execution_count": 2,
   "metadata": {},
   "outputs": [
    {
     "name": "stdout",
     "output_type": "stream",
     "text": [
      "                       Close\n",
      "Date       Time             \n",
      "2017-01-01 22:00:00  64.3460\n",
      "           23:00:00  64.3580\n",
      "2017-01-02 00:00:00  64.3610\n",
      "           01:00:00  64.7335\n",
      "           02:00:00  64.7369\n"
     ]
    }
   ],
   "source": [
    "eur = pd.read_excel('eur2017_hours.xls', index_col = [0, 1])\n",
    "print(eur.head())"
   ]
  },
  {
   "cell_type": "code",
   "execution_count": 3,
   "metadata": {},
   "outputs": [
    {
     "name": "stdout",
     "output_type": "stream",
     "text": [
      "                     signal  short_mavg  long_mavg  positions\n",
      "Date       Time                                              \n",
      "2017-12-29 23:00:00     0.0   68.700055  69.031028        0.0\n",
      "2017-12-30 00:00:00     0.0   68.704635  69.031204        0.0\n",
      "           01:00:00     0.0   68.707667  69.031128        0.0\n",
      "           02:00:00     0.0   68.711927  69.031400        0.0\n",
      "2017-12-31 22:00:00     0.0   68.715757  69.031664        0.0\n"
     ]
    }
   ],
   "source": [
    "# Initialize the short and long windows\n",
    "short_window = 100\n",
    "long_window = 250\n",
    "\n",
    "# Initialize the `signals` DataFrame with the `signal` column\n",
    "signals = pd.DataFrame(index=eur.index)\n",
    "signals['signal'] = 0.0\n",
    "\n",
    "# Create short simple moving average over the short window\n",
    "signals['short_mavg'] = eur['Close'].rolling(window=short_window, min_periods=1, center=False).mean()\n",
    "\n",
    "# Create long simple moving average over the long window\n",
    "signals['long_mavg'] = eur['Close'].rolling(window=long_window, min_periods=1, center=False).mean()\n",
    "\n",
    "# Create signals\n",
    "signals['signal'][short_window:] = np.where(signals['short_mavg'][short_window:] \n",
    "                                            > signals['long_mavg'][short_window:], 1.0, 0.0)   \n",
    "\n",
    "# Generate trading orders\n",
    "signals['positions'] = signals['signal'].diff()\n",
    "\n",
    "# Print `signals`\n",
    "print(signals.tail())"
   ]
  },
  {
   "cell_type": "code",
   "execution_count": 4,
   "metadata": {},
   "outputs": [
    {
     "name": "stderr",
     "output_type": "stream",
     "text": [
      "C:\\ProgramData\\Anaconda3\\lib\\site-packages\\pandas\\core\\indexing.py:179: SettingWithCopyWarning: \n",
      "A value is trying to be set on a copy of a slice from a DataFrame\n",
      "\n",
      "See the caveats in the documentation: http://pandas.pydata.org/pandas-docs/stable/indexing.html#indexing-view-versus-copy\n",
      "  self._setitem_with_indexer(indexer, value)\n"
     ]
    },
    {
     "name": "stdout",
     "output_type": "stream",
     "text": [
      "                         eur  positions  holdings          cash         total  \\\n",
      "Date       Time                                                                 \n",
      "2017-12-29 23:00:00  69.1950        0.0       0.0  10246.016114  10246.016114   \n",
      "2017-12-30 00:00:00  69.2920        0.0       0.0  10246.016114  10246.016114   \n",
      "           01:00:00  69.1582        0.0       0.0  10246.016114  10246.016114   \n",
      "           02:00:00  69.1890        0.0       0.0  10246.016114  10246.016114   \n",
      "2017-12-31 22:00:00  69.2100        0.0       0.0  10246.016114  10246.016114   \n",
      "\n",
      "                      returns  \n",
      "Date       Time                \n",
      "2017-12-29 23:00:00  0.024602  \n",
      "2017-12-30 00:00:00  0.024602  \n",
      "           01:00:00  0.024602  \n",
      "           02:00:00  0.024602  \n",
      "2017-12-31 22:00:00  0.024602  \n"
     ]
    }
   ],
   "source": [
    "# Set the initial capital\n",
    "initial_capital= float(10000.0)\n",
    "\n",
    "# Create a DataFrame `portfolio`\n",
    "portfolio = pd.DataFrame(index=signals.index).fillna(0.0)\n",
    "\n",
    "portfolio['eur'] = eur['Close']\n",
    "portfolio['positions'] = signals['positions']\n",
    "\n",
    "portfolio['holdings'] = [0 for x in range(len(portfolio))]\n",
    "portfolio['cash'] = [0 for x in range(len(portfolio))]\n",
    "\n",
    "portfolio['cash'].iloc[0] = initial_capital\n",
    "\n",
    "#Buy or sell when the positions are generated\n",
    "for i in range(len(portfolio)):\n",
    "    if i!=0:\n",
    "        portfolio['cash'].iloc[i] = portfolio['cash'].iloc[i-1]\n",
    "        portfolio['holdings'].iloc[i] = portfolio['holdings'].iloc[i-1]\n",
    "    \n",
    "    cash = portfolio['cash'].iloc[i]\n",
    "    eur = portfolio['eur'].iloc[i]\n",
    "    positions = portfolio['positions'].iloc[i]\n",
    "    holdings = portfolio['holdings'].iloc[i]\n",
    "    \n",
    "    if positions == 1:\n",
    "        holdings += cash/eur\n",
    "        cash = 0\n",
    "    if positions == -1:\n",
    "        cash += holdings*eur\n",
    "        holdings = 0\n",
    "        \n",
    "    portfolio['cash'].iloc[i] = cash\n",
    "    portfolio['holdings'].iloc[i] = holdings\n",
    "    \n",
    "# Add `total` to portfolio\n",
    "portfolio['total'] = portfolio['cash'] + portfolio['holdings']*portfolio['eur']\n",
    "\n",
    "# Add `returns` to portfolio\n",
    "portfolio['returns'] = portfolio['total']/initial_capital-1\n",
    "portfolio.drop(['eur'], axis=1)\n",
    "# Print the first lines of `portfolio`\n",
    "print(portfolio.tail())"
   ]
  },
  {
   "cell_type": "code",
   "execution_count": 19,
   "metadata": {
    "collapsed": true
   },
   "outputs": [],
   "source": [
    "portfolio.to_excel('portfolio.xlsx')"
   ]
  },
  {
   "cell_type": "code",
   "execution_count": 5,
   "metadata": {},
   "outputs": [
    {
     "data": {
      "image/png": "[encoded data removed]",
      "text/plain": [
       "<matplotlib.figure.Figure at 0x21b8a1d9828>"
      ]
     },
     "metadata": {},
     "output_type": "display_data"
    }
   ],
   "source": [
    "a=[]\n",
    "for i in range(len(portfolio)):\n",
    "    a.append(portfolio['total'].iloc[i])\n",
    "plt.plot(a)\n",
    "plt.show()"
   ]
  },
  {
   "cell_type": "code",
   "execution_count": 6,
   "metadata": {},
   "outputs": [
    {
     "data": {
      "image/png": "[encoded data removed]",
      "text/plain": [
       "<matplotlib.figure.Figure at 0x21b8a0cce10>"
      ]
     },
     "metadata": {},
     "output_type": "display_data"
    }
   ],
   "source": [
    "short = []\n",
    "long = []\n",
    "for i in range(2000):\n",
    "    short.append(signals['short_mavg'].iloc[i])\n",
    "    long.append(signals['long_mavg'].iloc[i])\n",
    "plt.plot(short)\n",
    "plt.plot(long)\n",
    "plt.show()"
   ]
  },
  {
   "cell_type": "code",
   "execution_count": null,
   "metadata": {
    "collapsed": true
   },
   "outputs": [],
   "source": []
  }
 ],
 "metadata": {
  "kernelspec": {
   "display_name": "Python 3",
   "language": "python",
   "name": "python3"
  },
  "language_info": {
   "codemirror_mode": {
    "name": "ipython",
    "version": 3
   },
   "file_extension": ".py",
   "mimetype": "text/x-python",
   "name": "python",
   "nbconvert_exporter": "python",
   "pygments_lexer": "ipython3",
   "version": "3.5.0"
  }
 },
 "nbformat": 4,
 "nbformat_minor": 2
}
